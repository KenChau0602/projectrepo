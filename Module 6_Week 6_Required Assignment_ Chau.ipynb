# 1a) Declare variables for storing a user’s name, age, and height.
name = "Alice"  # Example name
age = 25        # Example age
height_cm = 170 # Example height in centimeters

# 1b) Print a greeting message using the name.
print(f"Hello, {name}!")

# 1c) Calculate the user’s age 10 years from now.
age_in_10_years = age + 10
print(f"In 10 years, you will be {age_in_10_years} years old.")

# 1d) Display height in meters by converting height from centimeters.
height_m = height_cm / 100
print(f"Your height in meters is {height_m:.2f}m.")

# 2a) Prompt the user to enter a number.
number = float(input("Enter a number: "))

# 2b) Check if the number is positive, negative, or zero.
# 2c) Print an appropriate message based on the result.
if number > 0:
    print("The number is positive.")
elif number < 0:
    print("The number is negative.")
else:
    print("The number is zero.")

# 3a) Prompt the user to input an integer n.
n = int(input("Enter an integer: "))

# 3b) Use a for loop to print all even numbers from 1 up to n.
print("Even numbers from 1 to", n, "are:")
for i in range(2, n + 1, 2):
    print(i)

# 4a) Define a function to calculate the area of a rectangle using length and width as inputs.
def calculate_area(length, width):
    return length * width

# 4b) Prompt the user to input values for length and width.
length = float(input("Enter the length of the rectangle: "))
width = float(input("Enter the width of the rectangle: "))

# 4c) Call the function to calculate and then display the area in a formatted message.
area = calculate_area(length, width)
print(f"The area of the rectangle is {area:.2f} square units.")